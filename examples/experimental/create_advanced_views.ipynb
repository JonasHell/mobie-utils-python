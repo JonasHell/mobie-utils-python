{
 "cells": [
  {
   "cell_type": "markdown",
   "id": "c19a1d18",
   "metadata": {},
   "source": [
    "# Create advanced views\n",
    "\n",
    "TODO"
   ]
  },
  {
   "cell_type": "code",
   "execution_count": 3,
   "id": "24255e3b",
   "metadata": {},
   "outputs": [],
   "source": [
    "import os\n",
    "import mobie\n",
    "\n",
    "# the location of the mobie project that will be created\n",
    "# before running this example, you must first run \"create_mobie_project.ipynb\"\n",
    "# so that this project is generated\n",
    "# and of course you need to update the file path accordingly\n",
    "mobie_project_folder = \"/home/pape/Work/data/mobie/mobie_example_project/data\""
   ]
  },
  {
   "cell_type": "markdown",
   "id": "8f6b308f",
   "metadata": {},
   "source": [
    "## Create a grid view\n",
    "\n",
    "TODO"
   ]
  },
  {
   "cell_type": "code",
   "execution_count": 5,
   "id": "13c536fc",
   "metadata": {},
   "outputs": [],
   "source": [
    "dataset_name = \"example-dataset\"\n",
    "dataset_folder = os.path.join(mobie_project_folder, dataset_name)\n",
    "\n",
    "# TODO get the correct display settings\n",
    "sources = [[\"27_tomogram\"], [\"29_tomogram\"]]\n",
    "mobie.create_grid_view(dataset_folder, \"test-grid\", sources)"
   ]
  },
  {
   "cell_type": "markdown",
   "id": "34fd7797",
   "metadata": {},
   "source": [
    "## Create slice grid view\n",
    "\n",
    "TODO"
   ]
  },
  {
   "cell_type": "code",
   "execution_count": null,
   "id": "04efbcef",
   "metadata": {},
   "outputs": [],
   "source": []
  }
 ],
 "metadata": {
  "kernelspec": {
   "display_name": "Python 3 (ipykernel)",
   "language": "python",
   "name": "python3"
  },
  "language_info": {
   "codemirror_mode": {
    "name": "ipython",
    "version": 3
   },
   "file_extension": ".py",
   "mimetype": "text/x-python",
   "name": "python",
   "nbconvert_exporter": "python",
   "pygments_lexer": "ipython3",
   "version": "3.9.7"
  }
 },
 "nbformat": 4,
 "nbformat_minor": 5
}
