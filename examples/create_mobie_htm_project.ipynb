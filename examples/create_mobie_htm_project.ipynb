{
 "cells": [
  {
   "cell_type": "markdown",
   "id": "6da32cff",
   "metadata": {},
   "source": [
    "# Create MoBIE HTM Project\n",
    "\n",
    "Create a MoBIE project for high-throughput-microscopy data. The test data for this example is available here: https://owncloud.gwdg.de/index.php/s/eu8JMlUFZ82ccHT. It contains a few wells  of a plate from a immunofluorescence based SARS-CoV-2 antibody assay from https://onlinelibrary.wiley.com/doi/full/10.1002/bies.202000257."
   ]
  },
  {
   "cell_type": "code",
   "execution_count": null,
   "id": "38524f13",
   "metadata": {},
   "outputs": [],
   "source": [
    "# general imports\n",
    "import os\n",
    "from glob import glob\n",
    "import mobie.htm as htm\n",
    "\n",
    "# the location of the data\n",
    "# adapt these paths to your system and the input data you are using\n",
    "\n",
    "# location of the input data. \n",
    "# the example data used in this notebook is available via this link:\n",
    "# https://oc.embl.de/index.php/s/IV1709ZlcUB1k99\n",
    "example_input_folder = \"/home/pape/Work/data/htm-test-data\"\n",
    "\n",
    "# the location of the mobie project that will be created\n",
    "# we recommend that the mobie project folders have the structure <PROECJT_ROOT_FOLDER/data>\n",
    "# the folder 'data' will contain the sub-folders for individual datasets\n",
    "mobie_project_folder = \"/home/pape/Work/data/mobie/mobie_htm_project/data\"\n",
    "\n",
    "# name of the dataset that will be created.\n",
    "# one project can contain multiple datasets\n",
    "dataset_name = \"example-dataset\"\n",
    "dataset_folder = os.path.join(mobie_project_folder, dataset_name)\n",
    "\n",
    "# the platform and number of jobs used for computation.\n",
    "# choose 'local' to run computations on your machine.\n",
    "# for large data, it is also possible to run computation on a cluster;\n",
    "# for this purpose 'slurm' (for slurm cluster) and 'lsf' (for lsf cluster) are currently supported\n",
    "target = \"local\"\n",
    "max_jobs = 4"
   ]
  },
  {
   "cell_type": "markdown",
   "id": "fe5a2a13",
   "metadata": {},
   "source": [
    "## Adding image data"
   ]
  },
  {
   "cell_type": "code",
   "execution_count": null,
   "id": "aeb0deb1",
   "metadata": {},
   "outputs": [],
   "source": [
    "input_files = glob(os.path.join(example_input_folder, \"*.h5\"))\n",
    "input_files.sort()\n",
    "\n",
    "resolution = [0.65, 0.65]\n",
    "scale_factors = 4 * [[2, 2]]\n",
    "chunks = [512, 512]\n",
    "\n",
    "channels = [\"serum\", \"marker\", \"nuclei\"]\n",
    "for channel_name in channels:\n",
    "    image_names = [os.path.splitext(os.path.basename(im))[0] for im in input_files]\n",
    "    image_names = [f\"{name}-{channel_name}\" for name in image_names]\n",
    "\n",
    "    htm.add_images(input_files, mobie_project_folder, dataset_name,\n",
    "                   image_names, resolution, scale_factors, chunks, key=channel_name,\n",
    "                   target=target, max_jobs=max_jobs, file_format=\"ome.zarr\")"
   ]
  },
  {
   "cell_type": "markdown",
   "id": "dbfe819f",
   "metadata": {},
   "source": [
    "## Add segmentation data"
   ]
  },
  {
   "cell_type": "code",
   "execution_count": null,
   "id": "49d15bd5",
   "metadata": {},
   "outputs": [],
   "source": [
    "segmentation_names = [\"cells\", \"nuclei\"]\n",
    "for seg_name in segmentation_names:\n",
    "    image_names = [os.path.splitext(os.path.basename(im))[0] for im in input_files]\n",
    "    image_names = [f\"{name}-{seg_name}-segmentation\" for name in image_names]\n",
    "    \n",
    "    htm.add_segmentations(input_files, mobie_project_folder, dataset_name,\n",
    "                          image_names, resolution, scale_factors, chunks, key=f\"segmentation/{seg_name}\",\n",
    "                          target=target, max_jobs=max_jobs, file_format=\"ome.zarr\")"
   ]
  },
  {
   "cell_type": "markdown",
   "id": "5d7e7a6f",
   "metadata": {},
   "source": [
    "## Add views to creae plate layout"
   ]
  },
  {
   "cell_type": "code",
   "execution_count": null,
   "id": "f0b36b9b",
   "metadata": {},
   "outputs": [],
   "source": [
    "# TODO"
   ]
  }
 ],
 "metadata": {
  "kernelspec": {
   "display_name": "Python 3 (ipykernel)",
   "language": "python",
   "name": "python3"
  },
  "language_info": {
   "codemirror_mode": {
    "name": "ipython",
    "version": 3
   },
   "file_extension": ".py",
   "mimetype": "text/x-python",
   "name": "python",
   "nbconvert_exporter": "python",
   "pygments_lexer": "ipython3",
   "version": "3.9.7"
  }
 },
 "nbformat": 4,
 "nbformat_minor": 5
}
