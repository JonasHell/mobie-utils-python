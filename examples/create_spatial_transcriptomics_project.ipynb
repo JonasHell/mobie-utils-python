{
 "cells": [
  {
   "cell_type": "markdown",
   "id": "4b9a1c15",
   "metadata": {},
   "source": [
    "# Create MoBIE Spatial Transcriptomics Project\n",
    "\n",
    "TODO: explain where the initial files are, and how to download them"
   ]
  },
  {
   "cell_type": "code",
   "execution_count": null,
   "id": "44125d6b",
   "metadata": {},
   "outputs": [],
   "source": [
    "import os\n",
    "import mobie\n",
    "import pandas as pd\n",
    "\n",
    "# the location of the data\n",
    "# adapt these paths to your system and the input data you are using\n",
    "\n",
    "# location of the input data. \n",
    "# TODO\n",
    "input_data = \"/home/pape/Work/data/mobie/mobie-st-example-data/data.h5\"\n",
    "input_table = \"/home/pape/Work/data/mobie/mobie-st-example-data/table.tsv\"\n",
    "membrane_key = \"membrane\"\n",
    "nuclei_key = \"nuclei\"\n",
    "\n",
    "# the location of the mobie project that will be created\n",
    "# we recommend that the mobie project folders have the structure <PROECJT_ROOT_FOLDER/data>\n",
    "# the folder 'data' will contain the sub-folders for individual datasets\n",
    "mobie_project_folder = \"/home/pape/Work/data/mobie/mobie_st_project/data\"\n",
    "\n",
    "# name of the dataset that will be created.\n",
    "# one project can contain multiple datasets\n",
    "dataset_name = \"example-dataset\"\n",
    "dataset_folder = os.path.join(mobie_project_folder, dataset_name)\n",
    "\n",
    "# the platform and number of jobs used for computation.\n",
    "# choose 'local' to run computations on your machine.\n",
    "# for large data, it is also possible to run computation on a cluster;\n",
    "# for this purpose 'slurm' (for slurm cluster) and 'lsf' (for lsf cluster) are currently supported\n",
    "target = \"local\"\n",
    "max_jobs = 4"
   ]
  },
  {
   "cell_type": "markdown",
   "id": "a3e378c2",
   "metadata": {},
   "source": [
    "## Image Data\n",
    "\n",
    "TODO"
   ]
  },
  {
   "cell_type": "code",
   "execution_count": null,
   "id": "236d853e",
   "metadata": {},
   "outputs": [],
   "source": [
    "# spatial metadata\n",
    "resolution = [4.0, 0.11, 0.11]\n",
    "scale_factors = [[1, 2, 2], [1, 2, 2]]\n",
    "chunks = [1, 512, 512]\n",
    "unit = \"micrometer\""
   ]
  },
  {
   "cell_type": "code",
   "execution_count": null,
   "id": "b44162e2",
   "metadata": {},
   "outputs": [],
   "source": [
    "# add the image data to the project: first add the membrane marker channel\n",
    "mobie.add_image(\n",
    "    root=mobie_project_folder,\n",
    "    dataset_name=dataset_name,\n",
    "    input_path=input_data,\n",
    "    input_key=membrane_key,\n",
    "    image_name=membrane_key,\n",
    "    menu_name=\"image_data\",\n",
    "    resolution=resolution,\n",
    "    chunks=chunks,\n",
    "    scale_factors=scale_factors,\n",
    "    is_default_dataset=True,\n",
    "    target=target,\n",
    "    max_jobs=max_jobs,\n",
    "    unit=unit,\n",
    ")"
   ]
  },
  {
   "cell_type": "code",
   "execution_count": null,
   "id": "2fa41481",
   "metadata": {},
   "outputs": [],
   "source": [
    "# add the image data to the project: then add the nucleus marker channel\n",
    "mobie.add_image(\n",
    "    root=mobie_project_folder,\n",
    "    dataset_name=dataset_name,\n",
    "    input_path=input_data,\n",
    "    input_key=nuclei_key,\n",
    "    image_name=nuclei_key,\n",
    "    menu_name=\"image_data\",\n",
    "    resolution=resolution,\n",
    "    chunks=chunks,\n",
    "    scale_factors=scale_factors,\n",
    "    is_default_dataset=True,\n",
    "    target=target,\n",
    "    max_jobs=max_jobs,\n",
    "    unit=unit,\n",
    ")"
   ]
  },
  {
   "cell_type": "markdown",
   "id": "e88952df",
   "metadata": {},
   "source": [
    "## Spatial Transcriptomics Data\n",
    "\n",
    "TODO"
   ]
  },
  {
   "cell_type": "code",
   "execution_count": null,
   "id": "46a333fe",
   "metadata": {},
   "outputs": [],
   "source": [
    "# preprocess the table:\n",
    "# - make sure that it contains the coordinate columns in the right format\n",
    "# - add the spot_id column\n",
    "table = pd.read_csv(input_table, sep=\"\\t\")\n",
    "\n",
    "expected_columns = [\"x\", \"y\", \"z\"]\n",
    "for expected_column in expected_columns:\n",
    "    if expected_column not in table.columns:\n",
    "        print(\"The column\", expected_column, \"which is required to display the transcriptomics data is not present in the table\")\n",
    "    else:\n",
    "        col = table[expected_column]\n",
    "        print(\"Column\", expected_column, \"has coordinate range\", col.min(), \"to\", col.max())\n",
    "print(\"Please note that the coordinates must be given in the physical coordinate system, i.e. the coordinate system measured in physical units, not in pixels.\")\n",
    "print(\"If the coordinates are given in pixels please scale them accordingly.\")\n",
    "\n",
    "# TODO\n",
    "table[\"spot_id\"] = list(range(1, len(table) + 1))"
   ]
  },
  {
   "cell_type": "code",
   "execution_count": null,
   "id": "26eb4800",
   "metadata": {},
   "outputs": [],
   "source": [
    "# TODO explain the reference source\n",
    "mobie.add_spots(\n",
    "    input_table=table,\n",
    "    root=mobie_project_folder,\n",
    "    dataset_name=dataset_name,\n",
    "    spot_name=\"spatial_transcriptome_spots\",\n",
    "    menu_name=\"transcriptomics_data\",\n",
    "    reference_source=membrane_key,\n",
    ")"
   ]
  },
  {
   "cell_type": "markdown",
   "id": "c862b6de",
   "metadata": {},
   "source": [
    "## Project validation and Data Upload"
   ]
  },
  {
   "cell_type": "code",
   "execution_count": null,
   "id": "c3c65475",
   "metadata": {},
   "outputs": [],
   "source": [
    "mobie.validation.validate_project(mobie_project_folder)"
   ]
  },
  {
   "cell_type": "code",
   "execution_count": null,
   "id": "a9a21534",
   "metadata": {},
   "outputs": [],
   "source": [
    "# TODO data upload"
   ]
  }
 ],
 "metadata": {
  "kernelspec": {
   "display_name": "Python 3 (ipykernel)",
   "language": "python",
   "name": "python3"
  },
  "language_info": {
   "codemirror_mode": {
    "name": "ipython",
    "version": 3
   },
   "file_extension": ".py",
   "mimetype": "text/x-python",
   "name": "python",
   "nbconvert_exporter": "python",
   "pygments_lexer": "ipython3",
   "version": "3.9.7"
  }
 },
 "nbformat": 4,
 "nbformat_minor": 5
}
